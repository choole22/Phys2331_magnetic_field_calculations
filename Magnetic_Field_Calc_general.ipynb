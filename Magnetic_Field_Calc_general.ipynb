{
 "cells": [
  {
   "cell_type": "code",
   "execution_count": 1,
   "metadata": {},
   "outputs": [],
   "source": [
    "import numpy as np\n",
    "\n",
    "# set up the system\n",
    "radius_m = 1\n",
    "current_amps = -1\n",
    "\n",
    "# set up the approximation\n",
    "num_segments = 6\n",
    "\n",
    "# calculate the angles\n",
    "start_angle = 0\n",
    "total_angle = 2*np.pi\n",
    "angles = np.linspace(start_angle,start_angle + total_angle,num_segments,endpoint=False)\n",
    "#print (angles)\n",
    "\n",
    "# calculate the loop coordinates\n",
    "loop_coord_m = [np.array([radius_m*np.cos(angle), radius_m*np.sin(angle), 0]) for angle in angles]\n",
    "#print (loop_coord_m)\n",
    "\n",
    "# make the \\vec{dl} array\n",
    "dl_m = []\n",
    "\n",
    "for segment_idx in list(range(0,num_segments)):\n",
    "    final_idx = segment_idx % num_segments\n",
    "    ini_idx = (segment_idx + 1) % num_segments\n",
    "    segment = loop_coord_m[final_idx] - loop_coord_m[ini_idx]\n",
    "    dl_m.append(segment)\n",
    "    \n",
    "#print(dl_m)"
   ]
  },
  {
   "cell_type": "code",
   "execution_count": 2,
   "metadata": {
    "scrolled": false
   },
   "outputs": [
    {
     "name": "stdout",
     "output_type": "stream",
     "text": [
      "segment1\n",
      "dl: array([0.5, -0.866025, 0])\n",
      "r vec: array([0.06, -0.433013, -0.06])\n",
      "r hat: array([0.135978, -0.981336, -0.135978])\n",
      "r length: 0.44124822945820413\n",
      "dl x r: array([0.0519615, 0.03, -0.164545])\n",
      "dl x r hat: array([0.11776, 0.0679889, -0.372908])\n",
      "dB * 10^(-7): array([-0.604829, -0.349198, 1.91529])\n",
      "segment2\n",
      "dl: array([1, -1.11022e-16, 0])\n",
      "r vec: array([0.81, -0.866025, -0.06])\n",
      "r hat: array([0.682216, -0.729403, -0.0505345])\n",
      "r length: 1.1873078791956193\n",
      "dl x r: array([6.66134e-18, 0.06, -0.866025])\n",
      "dl x r hat: array([5.61046e-18, 0.0505345, -0.729403])\n",
      "dB * 10^(-7): array([-3.97989e-18, -0.0358477, 0.517417])\n",
      "segment3\n",
      "dl: array([0.5, 0.866025, 0])\n",
      "r vec: array([1.56, -0.433013, -0.06])\n",
      "r hat: array([0.962908, -0.267277, -0.0370349])\n",
      "r length: 1.6200925899466365\n",
      "dl x r: array([-0.0519615, 0.03, -1.56751])\n",
      "dl x r hat: array([-0.0320732, 0.0185175, -0.967541])\n",
      "dB * 10^(-7): array([0.0122198, -0.00705508, 0.368629])\n",
      "segment4\n",
      "dl: array([-0.5, 0.866025, 0])\n",
      "r vec: array([1.56, 0.433013, -0.06])\n",
      "r hat: array([0.962908, 0.267277, -0.0370349])\n",
      "r length: 1.6200925899466365\n",
      "dl x r: array([-0.0519615, -0.03, -1.56751])\n",
      "dl x r hat: array([-0.0320732, -0.0185175, -0.967541])\n",
      "dB * 10^(-7): array([0.0122198, 0.00705508, 0.368629])\n",
      "segment5\n",
      "dl: array([-1, 5.55112e-16, 0])\n",
      "r vec: array([0.81, 0.866025, -0.06])\n",
      "r hat: array([0.682216, 0.729403, -0.0505345])\n",
      "r length: 1.1873078791956202\n",
      "dl x r: array([-3.33067e-17, -0.06, -0.866025])\n",
      "dl x r hat: array([-2.80523e-17, -0.0505345, -0.729403])\n",
      "dB * 10^(-7): array([1.98995e-17, 0.0358477, 0.517417])\n",
      "segment6\n",
      "dl: array([-0.5, -0.866025, 0])\n",
      "r vec: array([0.06, 0.433013, -0.06])\n",
      "r hat: array([0.135978, 0.981336, -0.135978])\n",
      "r length: 0.4412482294582044\n",
      "dl x r: array([0.0519615, -0.03, -0.164545])\n",
      "dl x r hat: array([0.11776, -0.0679889, -0.372908])\n",
      "dB * 10^(-7): array([-0.604829, 0.349198, 1.91529])\n",
      "++++++++++++++++\n",
      "B_net * 10(-7): in array([-1.18522, -1.11022e-16, 5.60268])\n"
     ]
    }
   ],
   "source": [
    "# choose the location you're interested in\n",
    "# units in meters gives dB, Bnet in Tesla\n",
    "location_m = np.array([0.81, 0, -0.06])\n",
    "\n",
    "# initialize net magnetic field to zero\n",
    "b_net = np.array([0,0,0])\n",
    "\n",
    "# first element in dl_m matches with second element in loop_coord_m\n",
    "for idx in list(range(0,num_segments)):\n",
    "    # get \\vec{dl}\n",
    "    dl = dl_m[idx]\n",
    "    \n",
    "    # get \\vec{r}\n",
    "    # use the center of the segment for r_ini\n",
    "    final_idx = (idx) % num_segments\n",
    "    ini_idx = (idx+1) % num_segments\n",
    "    r_ini = (loop_coord_m[final_idx] + loop_coord_m[ini_idx])/2\n",
    "    r = location_m - r_ini\n",
    "    \n",
    "    # calculate \\vec{dB}\n",
    "    # and update b_net\n",
    "    dB = current_amps*np.cross(dl,r)/(np.linalg.norm(r)**3)\n",
    "    b_net = b_net + dB\n",
    "    \n",
    "    # print out all quantities of interest\n",
    "    # use set_printoptions to make things not too ugly\n",
    "    np.set_printoptions(formatter={\"float_kind\": lambda x: \"%g\" % x})\n",
    "    print(\"segment\" + repr(1+idx))\n",
    "    print(\"dl: \" + repr(dl))\n",
    "    #print(\"r ini: \" + repr(r_ini))\n",
    "    #print(\"r final: \" + repr(location_m))\n",
    "    print(\"r vec: \" + repr(r))\n",
    "    print(\"r hat: \" + repr(r/np.linalg.norm(r)))\n",
    "    print(\"r length: \" + repr(np.linalg.norm(r)))\n",
    "    print(\"dl x r: \" + repr(np.cross(dl,r)))\n",
    "    print(\"dl x r hat: \" + repr(np.cross(dl,r)/np.linalg.norm(r)))\n",
    "    print(\"dB * 10^(-7): \" + repr(dB))\n",
    "    \n",
    "\n",
    "print('++++++++++++++++')\n",
    "print(\"B_net * 10(-7): \" + repr(b_net))\n"
   ]
  },
  {
   "cell_type": "code",
   "execution_count": 3,
   "metadata": {},
   "outputs": [
    {
     "data": {
      "text/plain": [
       "-0.04545454545454529"
      ]
     },
     "execution_count": 3,
     "metadata": {},
     "output_type": "execute_result"
    }
   ],
   "source": [
    "(1.1-1.15)/1.1"
   ]
  },
  {
   "cell_type": "code",
   "execution_count": null,
   "metadata": {},
   "outputs": [],
   "source": []
  }
 ],
 "metadata": {
  "anaconda-cloud": {},
  "kernelspec": {
   "display_name": "Python 3",
   "language": "python",
   "name": "python3"
  },
  "language_info": {
   "codemirror_mode": {
    "name": "ipython",
    "version": 3
   },
   "file_extension": ".py",
   "mimetype": "text/x-python",
   "name": "python",
   "nbconvert_exporter": "python",
   "pygments_lexer": "ipython3",
   "version": "3.7.1"
  }
 },
 "nbformat": 4,
 "nbformat_minor": 2
}
