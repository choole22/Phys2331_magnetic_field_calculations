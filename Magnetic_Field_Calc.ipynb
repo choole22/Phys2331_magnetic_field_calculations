{
 "cells": [
  {
   "cell_type": "code",
   "execution_count": 1,
   "metadata": {
    "collapsed": true
   },
   "outputs": [],
   "source": [
    "import numpy as np"
   ]
  },
  {
   "cell_type": "code",
   "execution_count": 2,
   "metadata": {
    "collapsed": false
   },
   "outputs": [],
   "source": [
    "# set up the system\n",
    "radius_m = 1\n",
    "current_amps = 1\n",
    "\n",
    "# set up the approximation\n",
    "num_segments = 6"
   ]
  },
  {
   "cell_type": "code",
   "execution_count": 3,
   "metadata": {
    "collapsed": false
   },
   "outputs": [],
   "source": [
    "# calculate the angles\n",
    "angles = np.linspace(0,2*np.pi,num_segments,endpoint=False)\n",
    "#print (angles)\n",
    "\n",
    "# calculate the loop coordinates\n",
    "loop_coord_m = [np.array([radius_m*np.cos(angle), radius_m*np.sin(angle), 0]) for angle in angles]\n",
    "#print (loop_coord_m)\n",
    "\n",
    "# make the \\vec{dl} array\n",
    "dl_m = []\n",
    "\n",
    "for segment_idx in list(range(0,num_segments)):\n",
    "    final_idx = segment_idx % num_segments\n",
    "    ini_idx = (segment_idx + 1) % num_segments\n",
    "    segment = loop_coord_m[final_idx] - loop_coord_m[ini_idx]\n",
    "    dl_m.append(segment)\n",
    "    \n",
    "#print(dl_m)"
   ]
  },
  {
   "cell_type": "code",
   "execution_count": 6,
   "metadata": {
    "collapsed": false
   },
   "outputs": [],
   "source": [
    "# Label the points in space we're interested in\n",
    "location_dict = dict()\n",
    "\n",
    "label = 'A'\n",
    "radius = 1/5\n",
    "center = np.array([1,0,0])\n",
    "for idx in list(range(0,num_segments)):\n",
    "    angle = angles[idx]\n",
    "    location = center + np.array([radius*np.cos(angle), 0, radius*np.sin(angle)])\n",
    "    #print (location)\n",
    "    location_dict[chr(ord(label)+idx)] = location\n",
    "    \n",
    "label = 'G'\n",
    "radius = 1/2\n",
    "center = np.array([1,0,0])\n",
    "for idx in list(range(0,num_segments)):\n",
    "    angle = angles[idx]\n",
    "    location = center + np.array([radius*np.cos(angle), 0, radius*np.sin(angle)])\n",
    "    #print (location)\n",
    "    location_dict[chr(ord(label)+idx)] = location\n",
    "    \n",
    "label = 'A'\n",
    "radius = 1/5\n",
    "center = np.array([-1,0,0])\n",
    "for idx in list(range(0,num_segments)):\n",
    "    angle = angles[idx]\n",
    "    location = center + np.array([radius*np.cos(angle), 0, radius*np.sin(angle)])\n",
    "    #print (location)\n",
    "    key = chr(ord(label)+idx)\n",
    "    location_dict[key*2] = location\n",
    "    \n",
    "label = 'G'\n",
    "radius = 1/2\n",
    "center = np.array([-1,0,0])\n",
    "for idx in list(range(0,num_segments)):\n",
    "    angle = angles[idx]\n",
    "    location = center + np.array([radius*np.cos(angle), 0, radius*np.sin(angle)])\n",
    "    #print (location)\n",
    "    key = chr(ord(label)+idx)\n",
    "    location_dict[key*2] = location\n",
    "    \n",
    "#print (location_dict)"
   ]
  },
  {
   "cell_type": "code",
   "execution_count": 7,
   "metadata": {
    "collapsed": false
   },
   "outputs": [
    {
     "name": "stdout",
     "output_type": "stream",
     "text": [
      "segment1\n",
      "dl: array([ 0.5      , -0.8660254,  0.       ])\n",
      "r: array([ -1.11022302e-16,  -8.66025404e-01,   6.12323400e-17])0.8660254037844386\n",
      "r hat: array([ -1.28197512e-16,  -1.00000000e+00,   7.07050159e-17])\n",
      "cross: array([ -6.12323400e-17,  -3.53525080e-17,  -5.00000000e-01])\n",
      "dB: array([ -8.16431199e-17,  -4.71366773e-17,  -6.66666667e-01])\n",
      "loc: array([  5.00000000e-01,   0.00000000e+00,   6.12323400e-17])\n",
      "segment2\n",
      "dl: array([  1.00000000e+00,  -1.11022302e-16,   0.00000000e+00])\n",
      "r: array([  1.00000000e+00,  -8.66025404e-01,   6.12323400e-17])1.3228756555322951\n",
      "r hat: array([  7.55928946e-01,  -6.54653671e-01,   4.62872982e-17])\n",
      "cross: array([ -5.13892242e-33,  -4.62872982e-17,  -6.54653671e-01])\n",
      "dB: array([ -2.93652710e-33,  -2.64498847e-17,  -3.74087812e-01])\n",
      "loc: array([  5.00000000e-01,   0.00000000e+00,   6.12323400e-17])\n",
      "segment3\n",
      "dl: array([ 0.5      ,  0.8660254,  0.       ])\n",
      "r: array([  1.50000000e+00,  -1.22464680e-16,   6.12323400e-17])1.5\n",
      "r hat: array([  1.00000000e+00,  -8.16431199e-17,   4.08215600e-17])\n",
      "cross: array([  3.53525080e-17,  -2.04107800e-17,  -8.66025404e-01])\n",
      "dB: array([  1.57122258e-17,  -9.07145777e-18,  -3.84900179e-01])\n",
      "loc: array([  5.00000000e-01,   0.00000000e+00,   6.12323400e-17])\n",
      "segment4\n",
      "dl: array([-0.5      ,  0.8660254,  0.       ])\n",
      "r: array([  1.00000000e+00,   8.66025404e-01,   6.12323400e-17])1.3228756555322954\n",
      "r hat: array([  7.55928946e-01,   6.54653671e-01,   4.62872982e-17])\n",
      "cross: array([  4.00859761e-17,   2.31436491e-17,  -9.81980506e-01])\n",
      "dB: array([  2.29062721e-17,   1.32249423e-17,  -5.61131718e-01])\n",
      "loc: array([  5.00000000e-01,   0.00000000e+00,   6.12323400e-17])\n",
      "segment5\n",
      "dl: array([ -1.00000000e+00,   5.55111512e-16,   0.00000000e+00])\n",
      "r: array([  6.66133815e-16,   8.66025404e-01,   6.12323400e-17])0.86602540378443904\n",
      "r hat: array([  7.69185075e-16,   1.00000000e+00,   7.07050159e-17])\n",
      "cross: array([  3.92491683e-32,   7.07050159e-17,  -1.00000000e+00])\n",
      "dB: array([  5.23322244e-32,   9.42733546e-17,  -1.33333333e+00])\n",
      "loc: array([  5.00000000e-01,   0.00000000e+00,   6.12323400e-17])\n",
      "segment6\n",
      "dl: array([-0.5      , -0.8660254,  0.       ])\n",
      "r: array([ -5.00000000e-01,   0.00000000e+00,   6.12323400e-17])0.5\n",
      "r hat: array([ -1.00000000e+00,   0.00000000e+00,   1.22464680e-16])\n",
      "cross: array([ -1.06057524e-16,   6.12323400e-17,  -8.66025404e-01])\n",
      "dB: array([ -4.24230095e-16,   2.44929360e-16,  -3.46410162e+00])\n",
      "loc: array([  5.00000000e-01,   0.00000000e+00,   6.12323400e-17])\n"
     ]
    }
   ],
   "source": [
    "# choose the location you're interested in\n",
    "#location_m = np.array([-0.09, 0, -0.0173])\n",
    "location_m = location_dict['J']\n",
    "\n",
    "# first element in dl_m matches with second element in loop_coord_m\n",
    "for idx in list(range(0,num_segments)):\n",
    "    dl = dl_m[idx]\n",
    "    r = location_m - loop_coord_m[(idx+1) % num_segments]\n",
    "    print(\"segment\" + repr(1+idx))\n",
    "    print(\"dl: \" + repr(dl))\n",
    "    print(\"r: \" + repr(r) + repr(np.linalg.norm(r)))\n",
    "    print(\"r hat: \" + repr(r/np.linalg.norm(r)))\n",
    "    print(\"cross: \" + repr(np.cross(dl,r)/np.linalg.norm(r)))\n",
    "    print(\"dB: \" + repr(np.cross(dl,r)/(np.linalg.norm(r)**3)))\n",
    "    print(\"loc: \" + repr(location_m))\n"
   ]
  },
  {
   "cell_type": "code",
   "execution_count": null,
   "metadata": {
    "collapsed": true
   },
   "outputs": [],
   "source": []
  }
 ],
 "metadata": {
  "anaconda-cloud": {},
  "kernelspec": {
   "display_name": "Python [conda root]",
   "language": "python",
   "name": "conda-root-py"
  },
  "language_info": {
   "codemirror_mode": {
    "name": "ipython",
    "version": 3
   },
   "file_extension": ".py",
   "mimetype": "text/x-python",
   "name": "python",
   "nbconvert_exporter": "python",
   "pygments_lexer": "ipython3",
   "version": "3.5.2"
  }
 },
 "nbformat": 4,
 "nbformat_minor": 2
}
