{
 "cells": [
  {
   "cell_type": "code",
   "execution_count": 1,
   "metadata": {
    "collapsed": true
   },
   "outputs": [],
   "source": [
    "import numpy as np"
   ]
  },
  {
   "cell_type": "code",
   "execution_count": 6,
   "metadata": {
    "collapsed": false
   },
   "outputs": [
    {
     "name": "stdout",
     "output_type": "stream",
     "text": [
      "[ 0.          1.04719755  2.0943951   3.14159265  4.1887902   5.23598776]\n"
     ]
    }
   ],
   "source": [
    "num_segments = 6\n",
    "radius_m = 2\n",
    "\n",
    "angles = np.linspace(0,2*np.pi,num_segments,endpoint=False)\n",
    "print (angles)"
   ]
  },
  {
   "cell_type": "code",
   "execution_count": 23,
   "metadata": {
    "collapsed": false
   },
   "outputs": [
    {
     "name": "stdout",
     "output_type": "stream",
     "text": [
      "[array([ 2.,  0.,  0.]), array([ 1.        ,  1.73205081,  0.        ]), array([-1.        ,  1.73205081,  0.        ]), array([ -2.00000000e+00,   2.44929360e-16,   0.00000000e+00]), array([-1.        , -1.73205081,  0.        ]), array([ 1.        , -1.73205081,  0.        ])]\n"
     ]
    }
   ],
   "source": [
    "# calculate the loop coordinates\n",
    "loop_coord_m = [np.array([radius_m*np.cos(angle), radius_m*np.sin(angle), 0]) for angle in angles]\n",
    "print (loop_coord_m)"
   ]
  },
  {
   "cell_type": "code",
   "execution_count": 30,
   "metadata": {
    "collapsed": false
   },
   "outputs": [
    {
     "name": "stdout",
     "output_type": "stream",
     "text": [
      "[ 1.         -1.73205081  0.        ]\n",
      "[  2.00000000e+00  -2.22044605e-16   0.00000000e+00]\n",
      "[ 1.          1.73205081  0.        ]\n",
      "[-1.          1.73205081  0.        ]\n",
      "[ -2.00000000e+00   1.11022302e-15   0.00000000e+00]\n",
      "[-1.         -1.73205081  0.        ]\n",
      "[array([ 1.        , -1.73205081,  0.        ]), array([  2.00000000e+00,  -2.22044605e-16,   0.00000000e+00]), array([ 1.        ,  1.73205081,  0.        ]), array([-1.        ,  1.73205081,  0.        ]), array([ -2.00000000e+00,   1.11022302e-15,   0.00000000e+00]), array([-1.        , -1.73205081,  0.        ])]\n"
     ]
    }
   ],
   "source": [
    "# make the \\vec{dl} array\n",
    "dl_m = []\n",
    "\n",
    "for segment_idx in list(range(0,num_segments)):\n",
    "    final_idx = segment_idx % num_segments\n",
    "    ini_idx = (segment_idx + 1) % num_segments\n",
    "    segment = loop_coord_m[final_idx] - loop_coord_m[ini_idx]\n",
    "    dl_m.append(segment)\n",
    "    \n",
    "print(dl_m)"
   ]
  },
  {
   "cell_type": "code",
   "execution_count": 150,
   "metadata": {
    "collapsed": true
   },
   "outputs": [],
   "source": [
    "#location_m = np.array([-0.09, 0, -0.0173])\n",
    "location_m = location_dict['J']"
   ]
  },
  {
   "cell_type": "code",
   "execution_count": 151,
   "metadata": {
    "collapsed": false
   },
   "outputs": [
    {
     "name": "stdout",
     "output_type": "stream",
     "text": [
      "0\n",
      "dl: array([ 1.        , -1.73205081,  0.        ])\n",
      "r: array([ -5.00000000e-01,  -1.73205081e+00,   6.12323400e-17])1.8027756377319946\n",
      "cross: array([ -5.88301293e-17,  -3.39655910e-17,  -1.44115338e+00])\n",
      "dB: array([ -1.81015782e-17,  -1.04509511e-17,  -4.43431811e-01])\n",
      "loc: array([  5.00000000e-01,   0.00000000e+00,   6.12323400e-17])\n",
      "1\n",
      "dl: array([  2.00000000e+00,  -2.22044605e-16,   0.00000000e+00])\n",
      "r: array([  1.50000000e+00,  -1.73205081e+00,   6.12323400e-17])2.2912878474779199\n",
      "cross: array([ -5.93391649e-33,  -5.34479682e-17,  -1.51185789e+00])\n",
      "dB: array([ -1.13026981e-33,  -1.01805654e-17,  -2.87972932e-01])\n",
      "loc: array([  5.00000000e-01,   0.00000000e+00,   6.12323400e-17])\n",
      "2\n",
      "dl: array([ 1.        ,  1.73205081,  0.        ])\n",
      "r: array([  2.50000000e+00,  -2.44929360e-16,   6.12323400e-17])2.5\n",
      "cross: array([  4.24230095e-17,  -2.44929360e-17,  -1.73205081e+00])\n",
      "dB: array([  6.78768153e-18,  -3.91886976e-18,  -2.77128129e-01])\n",
      "loc: array([  5.00000000e-01,   0.00000000e+00,   6.12323400e-17])\n",
      "3\n",
      "dl: array([-1.        ,  1.73205081,  0.        ])\n",
      "r: array([  1.50000000e+00,   1.73205081e+00,   6.12323400e-17])2.2912878474779204\n",
      "cross: array([  4.62872982e-17,   2.67239841e-17,  -1.88982237e+00])\n",
      "dB: array([  8.81662823e-18,   5.09028268e-18,  -3.59966165e-01])\n",
      "loc: array([  5.00000000e-01,   0.00000000e+00,   6.12323400e-17])\n",
      "4\n",
      "dl: array([ -2.00000000e+00,   1.11022302e-15,   0.00000000e+00])\n",
      "r: array([ -5.00000000e-01,   1.73205081e+00,   6.12323400e-17])1.802775637731995\n",
      "cross: array([  3.77093812e-32,   6.79311820e-17,  -1.92153785e+00])\n",
      "dB: array([  1.16028865e-32,   2.09019021e-17,  -5.91242414e-01])\n",
      "loc: array([  5.00000000e-01,   0.00000000e+00,   6.12323400e-17])\n",
      "5\n",
      "dl: array([-1.        , -1.73205081,  0.        ])\n",
      "r: array([ -1.50000000e+00,   0.00000000e+00,   6.12323400e-17])1.5\n",
      "cross: array([ -7.07050159e-17,   4.08215600e-17,  -1.73205081e+00])\n",
      "dB: array([ -3.14244515e-17,   1.81429155e-17,  -7.69800359e-01])\n",
      "loc: array([  5.00000000e-01,   0.00000000e+00,   6.12323400e-17])\n"
     ]
    }
   ],
   "source": [
    "# first element in dl_m matches with second element in loop_coord_m\n",
    "for idx in list(range(0,num_segments)):\n",
    "    dl = dl_m[idx]\n",
    "    r = location_m - loop_coord_m[(idx+1) % num_segments]\n",
    "    print(idx)\n",
    "    print(\"dl: \" + repr(dl))\n",
    "    print(\"r: \" + repr(r) + repr(np.linalg.norm(r)))\n",
    "    print(\"cross: \" + repr(np.cross(dl,r)/np.linalg.norm(r)))\n",
    "    print(\"dB: \" + repr(np.cross(dl,r)/(np.linalg.norm(r)**3)))\n",
    "    print(\"loc: \" + repr(location_m))\n"
   ]
  },
  {
   "cell_type": "code",
   "execution_count": 53,
   "metadata": {
    "collapsed": true
   },
   "outputs": [],
   "source": [
    "label = 'A'"
   ]
  },
  {
   "cell_type": "code",
   "execution_count": 55,
   "metadata": {
    "collapsed": false
   },
   "outputs": [
    {
     "name": "stdout",
     "output_type": "stream",
     "text": [
      "A\n"
     ]
    }
   ],
   "source": [
    "print (chr(ord(label)+0))"
   ]
  },
  {
   "cell_type": "code",
   "execution_count": 66,
   "metadata": {
    "collapsed": false
   },
   "outputs": [
    {
     "name": "stdout",
     "output_type": "stream",
     "text": [
      "[ 1.2  0.   0. ]\n",
      "[ 1.1         0.          0.17320508]\n",
      "[ 0.9         0.          0.17320508]\n",
      "[  8.00000000e-01   0.00000000e+00   2.44929360e-17]\n",
      "[ 0.9         0.         -0.17320508]\n",
      "[ 1.1         0.         -0.17320508]\n",
      "[ 1.5  0.   0. ]\n",
      "[ 1.25       0.         0.4330127]\n",
      "[ 0.75       0.         0.4330127]\n",
      "[  5.00000000e-01   0.00000000e+00   6.12323400e-17]\n",
      "[ 0.75       0.        -0.4330127]\n",
      "[ 1.25       0.        -0.4330127]\n",
      "[-0.8  0.   0. ]\n",
      "[-0.9         0.          0.17320508]\n",
      "[-1.1         0.          0.17320508]\n",
      "[ -1.20000000e+00   0.00000000e+00   2.44929360e-17]\n",
      "[-1.1         0.         -0.17320508]\n",
      "[-0.9         0.         -0.17320508]\n",
      "[-0.5  0.   0. ]\n",
      "[-0.75       0.         0.4330127]\n",
      "[-1.25       0.         0.4330127]\n",
      "[ -1.50000000e+00   0.00000000e+00   6.12323400e-17]\n",
      "[-1.25       0.        -0.4330127]\n",
      "[-0.75       0.        -0.4330127]\n",
      "{'KK': array([-1.25     ,  0.       , -0.4330127]), 'AA': array([-0.8,  0. ,  0. ]), 'I': array([ 0.75     ,  0.       ,  0.4330127]), 'A': array([ 1.2,  0. ,  0. ]), 'G': array([ 1.5,  0. ,  0. ]), 'LL': array([-0.75     ,  0.       , -0.4330127]), 'F': array([ 1.1       ,  0.        , -0.17320508]), 'EE': array([-1.1       ,  0.        , -0.17320508]), 'DD': array([ -1.20000000e+00,   0.00000000e+00,   2.44929360e-17]), 'HH': array([-0.75     ,  0.       ,  0.4330127]), 'D': array([  8.00000000e-01,   0.00000000e+00,   2.44929360e-17]), 'H': array([ 1.25     ,  0.       ,  0.4330127]), 'C': array([ 0.9       ,  0.        ,  0.17320508]), 'B': array([ 1.1       ,  0.        ,  0.17320508]), 'II': array([-1.25     ,  0.       ,  0.4330127]), 'CC': array([-1.1       ,  0.        ,  0.17320508]), 'J': array([  5.00000000e-01,   0.00000000e+00,   6.12323400e-17]), 'L': array([ 1.25     ,  0.       , -0.4330127]), 'BB': array([-0.9       ,  0.        ,  0.17320508]), 'GG': array([-0.5,  0. ,  0. ]), 'K': array([ 0.75     ,  0.       , -0.4330127]), 'FF': array([-0.9       ,  0.        , -0.17320508]), 'E': array([ 0.9       ,  0.        , -0.17320508]), 'JJ': array([ -1.50000000e+00,   0.00000000e+00,   6.12323400e-17])}\n"
     ]
    }
   ],
   "source": [
    "location_dict = dict()\n",
    "\n",
    "label = 'A'\n",
    "radius = 1/5\n",
    "center = np.array([1,0,0])\n",
    "for idx in list(range(0,num_segments)):\n",
    "    angle = angles[idx]\n",
    "    location = center + np.array([radius*np.cos(angle), 0, radius*np.sin(angle)])\n",
    "    print (location)\n",
    "    location_dict[chr(ord(label)+idx)] = location\n",
    "    \n",
    "label = 'G'\n",
    "radius = 1/2\n",
    "center = np.array([1,0,0])\n",
    "for idx in list(range(0,num_segments)):\n",
    "    angle = angles[idx]\n",
    "    location = center + np.array([radius*np.cos(angle), 0, radius*np.sin(angle)])\n",
    "    print (location)\n",
    "    location_dict[chr(ord(label)+idx)] = location\n",
    "    \n",
    "label = 'A'\n",
    "radius = 1/5\n",
    "center = np.array([-1,0,0])\n",
    "for idx in list(range(0,num_segments)):\n",
    "    angle = angles[idx]\n",
    "    location = center + np.array([radius*np.cos(angle), 0, radius*np.sin(angle)])\n",
    "    print (location)\n",
    "    key = chr(ord(label)+idx)\n",
    "    location_dict[key*2] = location\n",
    "    \n",
    "label = 'G'\n",
    "radius = 1/2\n",
    "center = np.array([-1,0,0])\n",
    "for idx in list(range(0,num_segments)):\n",
    "    angle = angles[idx]\n",
    "    location = center + np.array([radius*np.cos(angle), 0, radius*np.sin(angle)])\n",
    "    print (location)\n",
    "    key = chr(ord(label)+idx)\n",
    "    location_dict[key*2] = location\n",
    "    \n",
    "print (location_dict)"
   ]
  },
  {
   "cell_type": "code",
   "execution_count": 64,
   "metadata": {
    "collapsed": false
   },
   "outputs": [
    {
     "data": {
      "text/plain": [
       "'aa'"
      ]
     },
     "execution_count": 64,
     "metadata": {},
     "output_type": "execute_result"
    }
   ],
   "source": [
    "'a'*2"
   ]
  },
  {
   "cell_type": "code",
   "execution_count": 67,
   "metadata": {
    "collapsed": false
   },
   "outputs": [
    {
     "data": {
      "text/plain": [
       "array([-0.8,  0. ,  0. ])"
      ]
     },
     "execution_count": 67,
     "metadata": {},
     "output_type": "execute_result"
    }
   ],
   "source": [
    "location_dict['AA']"
   ]
  },
  {
   "cell_type": "code",
   "execution_count": null,
   "metadata": {
    "collapsed": true
   },
   "outputs": [],
   "source": []
  }
 ],
 "metadata": {
  "kernelspec": {
   "display_name": "Python [conda root]",
   "language": "python",
   "name": "conda-root-py"
  },
  "language_info": {
   "codemirror_mode": {
    "name": "ipython",
    "version": 3
   },
   "file_extension": ".py",
   "mimetype": "text/x-python",
   "name": "python",
   "nbconvert_exporter": "python",
   "pygments_lexer": "ipython3",
   "version": "3.5.2"
  }
 },
 "nbformat": 4,
 "nbformat_minor": 1
}
